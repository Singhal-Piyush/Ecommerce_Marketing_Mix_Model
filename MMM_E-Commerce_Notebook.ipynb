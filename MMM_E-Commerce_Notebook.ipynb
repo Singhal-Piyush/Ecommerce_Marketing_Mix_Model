{
 "cells": [
  {
   "cell_type": "markdown",
   "id": "5e5afca1",
   "metadata": {},
   "source": [
    "# Marketing Mix Modelling (MMM) For E-Commerce "
   ]
  },
  {
   "cell_type": "markdown",
   "id": "59788eeb",
   "metadata": {},
   "source": [
    "### Problem Satement "
   ]
  },
  {
   "cell_type": "markdown",
   "id": "4c7982a1",
   "metadata": {},
   "source": [
    "A E-commerce company specialising in electronics products had spent a significant amount of money on marketing over the last one year.......\n",
    "\n",
    ".....\n",
    "\n",
    "\n",
    "\n",
    ".........\n",
    "........\n",
    "\n",
    "\n",
    "\n",
    "Theory work here, need to add \n",
    "* 1. Business Objective \n",
    "* 2. Problem Solving Methodology \n",
    "* and so on\n"
   ]
  },
  {
   "cell_type": "markdown",
   "id": "60777408",
   "metadata": {},
   "source": [
    "### Libraries "
   ]
  },
  {
   "cell_type": "code",
   "execution_count": 2,
   "id": "14cb9602",
   "metadata": {},
   "outputs": [],
   "source": [
    "# import libraries and packages\n",
    "import pandas as pd\n",
    "import numpy as np\n",
    "\n",
    "# visualization libraries\n",
    "import seaborn as sns\n",
    "import matplotlib.pyplot as plt\n",
    "%matplotlib inline\n",
    "\n",
    "\n",
    "\n",
    "# suppresing warnings\n",
    "import warnings\n",
    "warnings.filterwarnings('ignore')"
   ]
  },
  {
   "cell_type": "code",
   "execution_count": null,
   "id": "87338edd",
   "metadata": {},
   "outputs": [],
   "source": []
  },
  {
   "cell_type": "code",
   "execution_count": null,
   "id": "633cb8c5",
   "metadata": {},
   "outputs": [],
   "source": []
  },
  {
   "cell_type": "markdown",
   "id": "c022f8fd",
   "metadata": {},
   "source": [
    "### Reading data"
   ]
  },
  {
   "cell_type": "code",
   "execution_count": 1,
   "id": "8d845999",
   "metadata": {},
   "outputs": [],
   "source": [
    "import zipfile\n",
    "\n",
    "zip_path = '.\\dataset\\E-Commerce_Dataset.rar'\n",
    "\n"
   ]
  },
  {
   "cell_type": "code",
   "execution_count": null,
   "id": "d24f1e90",
   "metadata": {},
   "outputs": [],
   "source": []
  },
  {
   "cell_type": "code",
   "execution_count": null,
   "id": "1f80bef4",
   "metadata": {},
   "outputs": [],
   "source": []
  },
  {
   "cell_type": "markdown",
   "id": "b5a564f1",
   "metadata": {},
   "source": [
    "# Code Trial space"
   ]
  },
  {
   "cell_type": "code",
   "execution_count": 6,
   "id": "2619dc33",
   "metadata": {},
   "outputs": [],
   "source": [
    "# reading the complete csv and compressing it using gzip format\n",
    "dataset = pd.read_csv('G:\\ML_DL_Projects\\Datasets\\E-Commerce_Capstone_Dataset\\E-Commerce Dataset\\ConsumerElectronics.csv')\n",
    "\n",
    "dataset.to_csv('G:\\ML_DL_Projects\\Datasets\\E-Commerce_Capstone_Dataset\\E-Commerce Dataset\\ConsumerElectronics.csv.gz', index = False, compression = 'gzip')"
   ]
  },
  {
   "cell_type": "code",
   "execution_count": 7,
   "id": "ced51809",
   "metadata": {},
   "outputs": [
    {
     "name": "stdout",
     "output_type": "stream",
     "text": [
      "<class 'pandas.core.frame.DataFrame'>\n",
      "RangeIndex: 1648824 entries, 0 to 1648823\n",
      "Data columns (total 20 columns):\n",
      " #   Column                           Non-Null Count    Dtype  \n",
      "---  ------                           --------------    -----  \n",
      " 0   fsn_id                           1648824 non-null  object \n",
      " 1   order_date                       1648824 non-null  object \n",
      " 2   Year                             1648824 non-null  int64  \n",
      " 3   Month                            1648824 non-null  int64  \n",
      " 4   order_id                         1648824 non-null  float64\n",
      " 5   order_item_id                    1648824 non-null  float64\n",
      " 6   gmv                              1648824 non-null  object \n",
      " 7   units                            1648824 non-null  int64  \n",
      " 8   deliverybdays                    1648824 non-null  object \n",
      " 9   deliverycdays                    1648824 non-null  object \n",
      " 10  s1_fact.order_payment_type       1648824 non-null  object \n",
      " 11  sla                              1648824 non-null  int64  \n",
      " 12  cust_id                          1648824 non-null  object \n",
      " 13  pincode                          1648824 non-null  object \n",
      " 14  product_analytic_super_category  1648824 non-null  object \n",
      " 15  product_analytic_category        1648824 non-null  object \n",
      " 16  product_analytic_sub_category    1648824 non-null  object \n",
      " 17  product_analytic_vertical        1648824 non-null  object \n",
      " 18  product_mrp                      1648824 non-null  int64  \n",
      " 19  product_procurement_sla          1648824 non-null  int64  \n",
      "dtypes: float64(2), int64(6), object(12)\n",
      "memory usage: 1.2 GB\n"
     ]
    }
   ],
   "source": [
    "dataset.info(memory_usage = 'deep')"
   ]
  },
  {
   "cell_type": "code",
   "execution_count": 8,
   "id": "f80a11f5",
   "metadata": {},
   "outputs": [],
   "source": [
    "dataset_2 = pd.read_csv('G:\\ML_DL_Projects\\Datasets\\E-Commerce_Capstone_Dataset\\E-Commerce Dataset\\ConsumerElectronics.csv.gz', compression = 'gzip')"
   ]
  },
  {
   "cell_type": "code",
   "execution_count": 10,
   "id": "213e7110",
   "metadata": {},
   "outputs": [
    {
     "data": {
      "text/plain": [
       "(1648824, 20)"
      ]
     },
     "execution_count": 10,
     "metadata": {},
     "output_type": "execute_result"
    }
   ],
   "source": [
    "dataset_2.shape"
   ]
  },
  {
   "cell_type": "code",
   "execution_count": null,
   "id": "a8f93f4e",
   "metadata": {},
   "outputs": [],
   "source": []
  }
 ],
 "metadata": {
  "kernelspec": {
   "display_name": "Python 3 (ipykernel)",
   "language": "python",
   "name": "python3"
  },
  "language_info": {
   "codemirror_mode": {
    "name": "ipython",
    "version": 3
   },
   "file_extension": ".py",
   "mimetype": "text/x-python",
   "name": "python",
   "nbconvert_exporter": "python",
   "pygments_lexer": "ipython3",
   "version": "3.10.9"
  }
 },
 "nbformat": 4,
 "nbformat_minor": 5
}
